{
  "nbformat": 4,
  "nbformat_minor": 0,
  "metadata": {
    "colab": {
      "provenance": []
    },
    "kernelspec": {
      "name": "python3",
      "display_name": "Python 3"
    },
    "language_info": {
      "name": "python"
    }
  },
  "cells": [
    {
      "cell_type": "code",
      "execution_count": 1,
      "metadata": {
        "id": "wSx6vqWQ6N4N"
      },
      "outputs": [],
      "source": [
        "import pandas as pd\n",
        "from nltk.corpus import stopwords\n",
        "from nltk.tokenize import RegexpTokenizer\n",
        "from datetime import datetime\n",
        "import numpy as np\n",
        "from sklearn.ensemble import RandomForestClassifier\n",
        "from sklearn.feature_extraction.text import TfidfVectorizer\n",
        "from sklearn.model_selection import train_test_split\n",
        "from sklearn.naive_bayes import GaussianNB\n",
        "from sklearn.metrics import accuracy_score, recall_score, precision_score, f1_score, pairwise_distances\n",
        "from sklearn.metrics import confusion_matrix\n",
        "from collections import OrderedDict\n",
        "import matplotlib.pyplot as plt\n",
        "from tqdm import tqdm"
      ]
    },
    {
      "cell_type": "code",
      "source": [
        "pd.options.mode.chained_assignment = None\n",
        "\n",
        "df = pd.read_csv('/content/drive/MyDrive/df.csv')\n",
        "df.head()"
      ],
      "metadata": {
        "colab": {
          "base_uri": "https://localhost:8080/",
          "height": 612
        },
        "id": "1dy_hINJ6PQ9",
        "outputId": "e6cf122d-6898-4237-94b3-b85f1e73c141"
      },
      "execution_count": 2,
      "outputs": [
        {
          "output_type": "execute_result",
          "data": {
            "text/plain": [
              "                 reviewID              reviewerID            restaurantID  \\\n",
              "0  GtwU21YOQn-wf4vWRUIx6w  bNYesZ944s6IJVowOnB0iA  pbEiXam9YJL3neCYHGwLUA   \n",
              "1                 0LpVTc3  TRKxLC3y-ZvP45e5iilMtw  pbEiXam9YJL3neCYHGwLUA   \n",
              "2           tljtLzf68Fkwf  0EMm8umAqXZzyhxNpL4M9g  pbEiXam9YJL3neCYHGwLUA   \n",
              "3                     iSN  DlwexC7z88ymAzu45skODw  pbEiXam9YJL3neCYHGwLUA   \n",
              "4                  Jmwrh7  kW2dk1CWihmh3g7k9N2G8A  pbEiXam9YJL3neCYHGwLUA   \n",
              "\n",
              "         date  rating  reviewUsefulCount  \\\n",
              "0   9/22/2012       5                  0   \n",
              "1   9/22/2012       5                  0   \n",
              "2   9/19/2012       3                  2   \n",
              "3  09-06-2012       3                  8   \n",
              "4  09-09-2012       5                  1   \n",
              "\n",
              "                                       reviewContent flagged  \\\n",
              "0  unlike next we d eaten previous night dish com...       N   \n",
              "1  probably one best meals i ve ever it s perform...       N   \n",
              "2  service impeccable experience presentation coo...       N   \n",
              "3  the problem places like this given exhorbitant...       N   \n",
              "4  i idea write review dining alinea brings whole...       N   \n",
              "\n",
              "                        name                    location  ... coolCount  \\\n",
              "0                   Scott E.                Glengary, WV  ...         5   \n",
              "1                   Jerry K.  Palos Verdes Peninsula, CA  ...         0   \n",
              "2                Patricia M.                 Chicago, IL  ...         0   \n",
              "3                   Terry N.                San Jose, CA  ...         8   \n",
              "4  Shradha Vegetarianista A.                 Chicago, IL  ...       679   \n",
              "\n",
              "   funnyCount  complimentCount  tipCount  fanCount  restaurantRating  \\\n",
              "0           5                2         0         1               4.5   \n",
              "1           0                0         0         0               4.5   \n",
              "2           1                0         0         0               4.5   \n",
              "3           6                6        11         0               4.5   \n",
              "4         417              283        22        70               4.5   \n",
              "\n",
              "        mnr   rl     rd  Maximum Content Similarity  \n",
              "0  0.083333  497  0.125                    0.123653  \n",
              "1  0.083333   41  0.125                    0.000000  \n",
              "2  0.083333   27  0.375                    0.000000  \n",
              "3  0.083333  244  0.375                    0.000000  \n",
              "4  0.083333   97  0.125                    0.760866  \n",
              "\n",
              "[5 rows x 25 columns]"
            ],
            "text/html": [
              "\n",
              "  <div id=\"df-cef1957e-38fe-4500-bd02-e2f1a1f6cd30\">\n",
              "    <div class=\"colab-df-container\">\n",
              "      <div>\n",
              "<style scoped>\n",
              "    .dataframe tbody tr th:only-of-type {\n",
              "        vertical-align: middle;\n",
              "    }\n",
              "\n",
              "    .dataframe tbody tr th {\n",
              "        vertical-align: top;\n",
              "    }\n",
              "\n",
              "    .dataframe thead th {\n",
              "        text-align: right;\n",
              "    }\n",
              "</style>\n",
              "<table border=\"1\" class=\"dataframe\">\n",
              "  <thead>\n",
              "    <tr style=\"text-align: right;\">\n",
              "      <th></th>\n",
              "      <th>reviewID</th>\n",
              "      <th>reviewerID</th>\n",
              "      <th>restaurantID</th>\n",
              "      <th>date</th>\n",
              "      <th>rating</th>\n",
              "      <th>reviewUsefulCount</th>\n",
              "      <th>reviewContent</th>\n",
              "      <th>flagged</th>\n",
              "      <th>name</th>\n",
              "      <th>location</th>\n",
              "      <th>...</th>\n",
              "      <th>coolCount</th>\n",
              "      <th>funnyCount</th>\n",
              "      <th>complimentCount</th>\n",
              "      <th>tipCount</th>\n",
              "      <th>fanCount</th>\n",
              "      <th>restaurantRating</th>\n",
              "      <th>mnr</th>\n",
              "      <th>rl</th>\n",
              "      <th>rd</th>\n",
              "      <th>Maximum Content Similarity</th>\n",
              "    </tr>\n",
              "  </thead>\n",
              "  <tbody>\n",
              "    <tr>\n",
              "      <th>0</th>\n",
              "      <td>GtwU21YOQn-wf4vWRUIx6w</td>\n",
              "      <td>bNYesZ944s6IJVowOnB0iA</td>\n",
              "      <td>pbEiXam9YJL3neCYHGwLUA</td>\n",
              "      <td>9/22/2012</td>\n",
              "      <td>5</td>\n",
              "      <td>0</td>\n",
              "      <td>unlike next we d eaten previous night dish com...</td>\n",
              "      <td>N</td>\n",
              "      <td>Scott E.</td>\n",
              "      <td>Glengary, WV</td>\n",
              "      <td>...</td>\n",
              "      <td>5</td>\n",
              "      <td>5</td>\n",
              "      <td>2</td>\n",
              "      <td>0</td>\n",
              "      <td>1</td>\n",
              "      <td>4.5</td>\n",
              "      <td>0.083333</td>\n",
              "      <td>497</td>\n",
              "      <td>0.125</td>\n",
              "      <td>0.123653</td>\n",
              "    </tr>\n",
              "    <tr>\n",
              "      <th>1</th>\n",
              "      <td>0LpVTc3</td>\n",
              "      <td>TRKxLC3y-ZvP45e5iilMtw</td>\n",
              "      <td>pbEiXam9YJL3neCYHGwLUA</td>\n",
              "      <td>9/22/2012</td>\n",
              "      <td>5</td>\n",
              "      <td>0</td>\n",
              "      <td>probably one best meals i ve ever it s perform...</td>\n",
              "      <td>N</td>\n",
              "      <td>Jerry K.</td>\n",
              "      <td>Palos Verdes Peninsula, CA</td>\n",
              "      <td>...</td>\n",
              "      <td>0</td>\n",
              "      <td>0</td>\n",
              "      <td>0</td>\n",
              "      <td>0</td>\n",
              "      <td>0</td>\n",
              "      <td>4.5</td>\n",
              "      <td>0.083333</td>\n",
              "      <td>41</td>\n",
              "      <td>0.125</td>\n",
              "      <td>0.000000</td>\n",
              "    </tr>\n",
              "    <tr>\n",
              "      <th>2</th>\n",
              "      <td>tljtLzf68Fkwf</td>\n",
              "      <td>0EMm8umAqXZzyhxNpL4M9g</td>\n",
              "      <td>pbEiXam9YJL3neCYHGwLUA</td>\n",
              "      <td>9/19/2012</td>\n",
              "      <td>3</td>\n",
              "      <td>2</td>\n",
              "      <td>service impeccable experience presentation coo...</td>\n",
              "      <td>N</td>\n",
              "      <td>Patricia M.</td>\n",
              "      <td>Chicago, IL</td>\n",
              "      <td>...</td>\n",
              "      <td>0</td>\n",
              "      <td>1</td>\n",
              "      <td>0</td>\n",
              "      <td>0</td>\n",
              "      <td>0</td>\n",
              "      <td>4.5</td>\n",
              "      <td>0.083333</td>\n",
              "      <td>27</td>\n",
              "      <td>0.375</td>\n",
              "      <td>0.000000</td>\n",
              "    </tr>\n",
              "    <tr>\n",
              "      <th>3</th>\n",
              "      <td>iSN</td>\n",
              "      <td>DlwexC7z88ymAzu45skODw</td>\n",
              "      <td>pbEiXam9YJL3neCYHGwLUA</td>\n",
              "      <td>09-06-2012</td>\n",
              "      <td>3</td>\n",
              "      <td>8</td>\n",
              "      <td>the problem places like this given exhorbitant...</td>\n",
              "      <td>N</td>\n",
              "      <td>Terry N.</td>\n",
              "      <td>San Jose, CA</td>\n",
              "      <td>...</td>\n",
              "      <td>8</td>\n",
              "      <td>6</td>\n",
              "      <td>6</td>\n",
              "      <td>11</td>\n",
              "      <td>0</td>\n",
              "      <td>4.5</td>\n",
              "      <td>0.083333</td>\n",
              "      <td>244</td>\n",
              "      <td>0.375</td>\n",
              "      <td>0.000000</td>\n",
              "    </tr>\n",
              "    <tr>\n",
              "      <th>4</th>\n",
              "      <td>Jmwrh7</td>\n",
              "      <td>kW2dk1CWihmh3g7k9N2G8A</td>\n",
              "      <td>pbEiXam9YJL3neCYHGwLUA</td>\n",
              "      <td>09-09-2012</td>\n",
              "      <td>5</td>\n",
              "      <td>1</td>\n",
              "      <td>i idea write review dining alinea brings whole...</td>\n",
              "      <td>N</td>\n",
              "      <td>Shradha Vegetarianista A.</td>\n",
              "      <td>Chicago, IL</td>\n",
              "      <td>...</td>\n",
              "      <td>679</td>\n",
              "      <td>417</td>\n",
              "      <td>283</td>\n",
              "      <td>22</td>\n",
              "      <td>70</td>\n",
              "      <td>4.5</td>\n",
              "      <td>0.083333</td>\n",
              "      <td>97</td>\n",
              "      <td>0.125</td>\n",
              "      <td>0.760866</td>\n",
              "    </tr>\n",
              "  </tbody>\n",
              "</table>\n",
              "<p>5 rows × 25 columns</p>\n",
              "</div>\n",
              "      <button class=\"colab-df-convert\" onclick=\"convertToInteractive('df-cef1957e-38fe-4500-bd02-e2f1a1f6cd30')\"\n",
              "              title=\"Convert this dataframe to an interactive table.\"\n",
              "              style=\"display:none;\">\n",
              "        \n",
              "  <svg xmlns=\"http://www.w3.org/2000/svg\" height=\"24px\"viewBox=\"0 0 24 24\"\n",
              "       width=\"24px\">\n",
              "    <path d=\"M0 0h24v24H0V0z\" fill=\"none\"/>\n",
              "    <path d=\"M18.56 5.44l.94 2.06.94-2.06 2.06-.94-2.06-.94-.94-2.06-.94 2.06-2.06.94zm-11 1L8.5 8.5l.94-2.06 2.06-.94-2.06-.94L8.5 2.5l-.94 2.06-2.06.94zm10 10l.94 2.06.94-2.06 2.06-.94-2.06-.94-.94-2.06-.94 2.06-2.06.94z\"/><path d=\"M17.41 7.96l-1.37-1.37c-.4-.4-.92-.59-1.43-.59-.52 0-1.04.2-1.43.59L10.3 9.45l-7.72 7.72c-.78.78-.78 2.05 0 2.83L4 21.41c.39.39.9.59 1.41.59.51 0 1.02-.2 1.41-.59l7.78-7.78 2.81-2.81c.8-.78.8-2.07 0-2.86zM5.41 20L4 18.59l7.72-7.72 1.47 1.35L5.41 20z\"/>\n",
              "  </svg>\n",
              "      </button>\n",
              "      \n",
              "  <style>\n",
              "    .colab-df-container {\n",
              "      display:flex;\n",
              "      flex-wrap:wrap;\n",
              "      gap: 12px;\n",
              "    }\n",
              "\n",
              "    .colab-df-convert {\n",
              "      background-color: #E8F0FE;\n",
              "      border: none;\n",
              "      border-radius: 50%;\n",
              "      cursor: pointer;\n",
              "      display: none;\n",
              "      fill: #1967D2;\n",
              "      height: 32px;\n",
              "      padding: 0 0 0 0;\n",
              "      width: 32px;\n",
              "    }\n",
              "\n",
              "    .colab-df-convert:hover {\n",
              "      background-color: #E2EBFA;\n",
              "      box-shadow: 0px 1px 2px rgba(60, 64, 67, 0.3), 0px 1px 3px 1px rgba(60, 64, 67, 0.15);\n",
              "      fill: #174EA6;\n",
              "    }\n",
              "\n",
              "    [theme=dark] .colab-df-convert {\n",
              "      background-color: #3B4455;\n",
              "      fill: #D2E3FC;\n",
              "    }\n",
              "\n",
              "    [theme=dark] .colab-df-convert:hover {\n",
              "      background-color: #434B5C;\n",
              "      box-shadow: 0px 1px 3px 1px rgba(0, 0, 0, 0.15);\n",
              "      filter: drop-shadow(0px 1px 2px rgba(0, 0, 0, 0.3));\n",
              "      fill: #FFFFFF;\n",
              "    }\n",
              "  </style>\n",
              "\n",
              "      <script>\n",
              "        const buttonEl =\n",
              "          document.querySelector('#df-cef1957e-38fe-4500-bd02-e2f1a1f6cd30 button.colab-df-convert');\n",
              "        buttonEl.style.display =\n",
              "          google.colab.kernel.accessAllowed ? 'block' : 'none';\n",
              "\n",
              "        async function convertToInteractive(key) {\n",
              "          const element = document.querySelector('#df-cef1957e-38fe-4500-bd02-e2f1a1f6cd30');\n",
              "          const dataTable =\n",
              "            await google.colab.kernel.invokeFunction('convertToInteractive',\n",
              "                                                     [key], {});\n",
              "          if (!dataTable) return;\n",
              "\n",
              "          const docLinkHtml = 'Like what you see? Visit the ' +\n",
              "            '<a target=\"_blank\" href=https://colab.research.google.com/notebooks/data_table.ipynb>data table notebook</a>'\n",
              "            + ' to learn more about interactive tables.';\n",
              "          element.innerHTML = '';\n",
              "          dataTable['output_type'] = 'display_data';\n",
              "          await google.colab.output.renderOutput(dataTable, element);\n",
              "          const docLink = document.createElement('div');\n",
              "          docLink.innerHTML = docLinkHtml;\n",
              "          element.appendChild(docLink);\n",
              "        }\n",
              "      </script>\n",
              "    </div>\n",
              "  </div>\n",
              "  "
            ]
          },
          "metadata": {},
          "execution_count": 2
        }
      ]
    },
    {
      "cell_type": "code",
      "source": [
        "def data_cleaning(df):\n",
        "    print(\"Cleaning Data\")\n",
        "    # Removing \\n from date field\n",
        "    for i in range(len(df['date'])):\n",
        "        if df['date'][i][0] == '\\n':\n",
        "            df['date'][i] = df['date'][i][1:]\n",
        "\n",
        "    # Making yelpJoinDate Format Uniform\n",
        "    df['yelpJoinDate'] = df['yelpJoinDate'].apply(\n",
        "        lambda x: datetime.strftime(datetime.strptime(x, '%B %Y'), '01/%m/%Y'))\n",
        "\n",
        "    # Removing emtpy cells\n",
        "    if len(np.where(pd.isnull(df))) > 2:\n",
        "        # TODO\n",
        "        pass\n",
        "\n",
        "    # Pre-processing Text Reviews\n",
        "    # Remove Stop Words\n",
        "    stop = stopwords.words('english')\n",
        "    df['reviewContent'] = df['reviewContent'].apply(\n",
        "        lambda x: ' '.join(word for word in x.split() if word not in stop))\n",
        "\n",
        "    # Remove Punctuations\n",
        "    tokenizer = RegexpTokenizer(r'\\w+')\n",
        "    df['reviewContent'] = df['reviewContent'].apply(\n",
        "        lambda x: ' '.join(word for word in tokenizer.tokenize(x)))\n",
        "\n",
        "    # Lowercase Words\n",
        "    df['reviewContent'] = df['reviewContent'].apply(\n",
        "        lambda x: x.lower())\n",
        "    print(\"Data Cleaning Complete\")\n",
        "    return df\n"
      ],
      "metadata": {
        "id": "QjikxsV06Zq6"
      },
      "execution_count": 4,
      "outputs": []
    },
    {
      "cell_type": "code",
      "source": [
        "def feature_engineering(df):\n",
        "    print(\"Feature Engineering: Creating New Features\")\n",
        "    # Maximum Number of Reviews per day per reviewer\n",
        "    mnr_df1 = df[['reviewerID', 'date']].copy()\n",
        "    mnr_df2 = mnr_df1.groupby(by=['date', 'reviewerID']).size().reset_index(name='mnr')\n",
        "    mnr_df2['mnr'] = mnr_df2['mnr'] / mnr_df2['mnr'].max()\n",
        "    df = df.merge(mnr_df2, on=['reviewerID', 'date'], how='inner')\n",
        "\n",
        "    # Review Length\n",
        "    df['rl'] = df['reviewContent'].apply(\n",
        "        lambda x: len(x.split()))\n",
        "\n",
        "    # Review Deviation\n",
        "    df['rd'] = abs(df['rating'] - df['restaurantRating']) / 4\n",
        "\n",
        "    # Maximum cosine similarity\n",
        "    review_data = df\n",
        "\n",
        "    res = OrderedDict()\n",
        "\n",
        "    # Iterate over data and create groups of reviewers\n",
        "    for row in review_data.iterrows():\n",
        "        if row[1].reviewerID in res:\n",
        "            res[row[1].reviewerID].append(row[1].reviewContent)\n",
        "        else:\n",
        "            res[row[1].reviewerID] = [row[1].reviewContent]\n",
        "\n",
        "    individual_reviewer = [{'reviewerID': k, 'reviewContent': v} for k, v in res.items()]\n",
        "    df2 = dict()\n",
        "    df2['reviewerID'] = pd.Series([])\n",
        "    df2['Maximum Content Similarity'] = pd.Series([])\n",
        "    vector = TfidfVectorizer(min_df=0)\n",
        "    count = -1\n",
        "    for reviewer_data in individual_reviewer:\n",
        "        count = count + 1\n",
        "        # Handle Null/single review gracefully -24-Apr-2019\n",
        "        try:\n",
        "            tfidf = vector.fit_transform(reviewer_data['reviewContent'])\n",
        "        except:\n",
        "            pass\n",
        "        cosine = 1 - pairwise_distances(tfidf, metric='cosine')\n",
        "\n",
        "        np.fill_diagonal(cosine, -np.inf)\n",
        "        max = cosine.max()\n",
        "\n",
        "        # To handle reviewier with just 1 review\n",
        "        if max == -np.inf:\n",
        "            max = 0\n",
        "        df2['reviewerID'][count] = reviewer_data['reviewerID']\n",
        "        df2['Maximum Content Similarity'][count] = max\n",
        "\n",
        "    df3 = pd.DataFrame(df2, columns=['reviewerID', 'Maximum Content Similarity'])\n",
        "\n",
        "    # left outer join on original datamatrix and cosine dataframe -24-Apr-2019\n",
        "    df = pd.merge(review_data, df3, on=\"reviewerID\", how=\"left\")\n",
        "\n",
        "    df.drop(index=np.where(pd.isnull(df))[0], axis=0, inplace=True)\n",
        "    print(\"Feature Engineering Complete\")\n",
        "    return df\n"
      ],
      "metadata": {
        "id": "wU3kGeK-6hKN"
      },
      "execution_count": 5,
      "outputs": []
    },
    {
      "cell_type": "code",
      "source": [
        "def under_sampling(df):\n",
        "    print(\"Under-Sampling Data\")\n",
        "    # Count of Reviews\n",
        "    # print(\"Authentic\", len(df[(df['flagged'] == 'N')]))\n",
        "    # print(\"Fake\", len(df[(df['flagged'] == 'Y')]))\n",
        "\n",
        "    sample_size = len(df[(df['flagged'] == 'Y')])\n",
        "\n",
        "    authentic_reviews_df = df[df['flagged'] == 'N']\n",
        "    fake_reviews_df = df[df['flagged'] == 'Y']\n",
        "\n",
        "    authentic_reviews_us_df = authentic_reviews_df.sample(sample_size)\n",
        "    under_sampled_df = pd.concat([authentic_reviews_us_df, fake_reviews_df], axis=0)\n",
        "\n",
        "    # print(\"Under-Sampled Fake\", len(under_sampled_df[(under_sampled_df['flagged'] == 'Y')]))\n",
        "    # print(\"Under-Sampled Authentic\", len(under_sampled_df[(under_sampled_df['flagged'] == 'N')]))\n",
        "\n",
        "    # Graph of Data Distribution\n",
        "    # fig, ax = plt.subplots(figsize=(6, 4))\n",
        "    # sns.countplot(x='flagged', data=under_sampled_df)\n",
        "    # plt.title(\"Count of Reviews\")\n",
        "    # plt.show()\n",
        "    print(\"Under-Sampling Complete\")\n",
        "    return under_sampled_df\n"
      ],
      "metadata": {
        "id": "uqal07bg6mCH"
      },
      "execution_count": 6,
      "outputs": []
    },
    {
      "cell_type": "code",
      "source": [
        "def semi_supervised_learning(df, model, algorithm, threshold=0.8, iterations=40):\n",
        "    df = df.copy()\n",
        "    print(\"Training \"+algorithm+\" Model\")\n",
        "    labels = df['flagged']\n",
        "\n",
        "    df.drop(['reviewID', 'reviewerID', 'restaurantID', 'date', 'name', 'location', 'yelpJoinDate', 'flagged',\n",
        "             'reviewContent', 'restaurantRating'], axis=1, inplace=True)\n",
        "\n",
        "    train_data, test_data, train_label, test_label = train_test_split(df, labels, test_size=0.25, random_state=42)\n",
        "\n",
        "    test_data_copy = test_data.copy()\n",
        "    test_label_copy = test_label.copy()\n",
        "\n",
        "    all_labeled = False\n",
        "\n",
        "    current_iteration = 0\n",
        "\n",
        "    # param_grid = {\n",
        "    #     'n_estimators': [10, 500],\n",
        "    #     'max_features': ['auto', 'sqrt', 'log2'],\n",
        "    #     'max_depth': [4, 5, 6, 7, 8, 9, 10, 11, 12, 13, 14],\n",
        "    #     'criterion': ['gini', 'entropy']\n",
        "    # }\n",
        "    # grid_clf_acc = GridSearchCV(estimator=model, param_grid=param_grid, cv=5)\n",
        "    #\n",
        "    # grid_clf_acc.fit(train_data, train_label)\n",
        "    \n",
        "    pbar = tqdm(total=iterations)\n",
        "\n",
        "    while not all_labeled and (current_iteration < iterations):\n",
        "        # print(\"Before train data length : \", len(train_data))\n",
        "        # print(\"Before test data length : \", len(test_data))\n",
        "        current_iteration += 1\n",
        "        model.fit(train_data, train_label)\n",
        "\n",
        "        probabilities = model.predict_proba(test_data)\n",
        "        pseudo_labels = model.predict(test_data)\n",
        "\n",
        "        indices = np.argwhere(probabilities > threshold)\n",
        "\n",
        "        # print(\"rows above threshold : \", len(indices))\n",
        "        for item in indices:\n",
        "            train_data.loc[test_data.index[item[0]]] = test_data.iloc[item[0]]\n",
        "            train_label.loc[test_data.index[item[0]]] = pseudo_labels[item[0]]\n",
        "        test_data.drop(test_data.index[indices[:, 0]], inplace=True)\n",
        "        test_label.drop(test_label.index[indices[:, 0]], inplace=True)\n",
        "        # print(\"After train data length : \", len(train_data))\n",
        "        # print(\"After test data length : \", len(test_data))\n",
        "        print(\"--\" * 20)\n",
        "\n",
        "        if len(test_data) == 0:\n",
        "            print(\"Exiting loop\")\n",
        "            all_labeled = True\n",
        "        pbar.update(1)\n",
        "    pbar.close()\n",
        "    predicted_labels = model.predict(test_data_copy)\n",
        "\n",
        "    # print('Best Params : ', grid_clf_acc.best_params_)\n",
        "    print(algorithm + ' Model Results')\n",
        "    print('--' * 20)\n",
        "    print('Accuracy Score : ' + str(accuracy_score(test_label_copy, predicted_labels)))\n",
        "    print('Precision Score : ' + str(precision_score(test_label_copy, predicted_labels, pos_label=\"Y\")))\n",
        "    print('Recall Score : ' + str(recall_score(test_label_copy, predicted_labels, pos_label=\"Y\")))\n",
        "    print('F1 Score : ' + str(f1_score(test_label_copy, predicted_labels, pos_label=\"Y\")))\n",
        "    print('Confusion Matrix : \\n' + str(confusion_matrix(test_label_copy, predicted_labels)))\n",
        "    plot_confusion_matrix(test_label_copy, predicted_labels, classes=['N', 'Y'],\n",
        "                          title=algorithm + ' Confusion Matrix').show()\n"
      ],
      "metadata": {
        "id": "Bmf6bzuZ6p-P"
      },
      "execution_count": 7,
      "outputs": []
    },
    {
      "cell_type": "code",
      "source": [
        "def plot_confusion_matrix(y_true, y_pred, classes, title=None, cmap=plt.cm.Blues):\n",
        "    # Compute confusion matrix\n",
        "    cm = confusion_matrix(y_true, y_pred)\n",
        "    # Only use the labels that appear in the data\n",
        "\n",
        "    fig, ax = plt.subplots()\n",
        "    im = ax.imshow(cm, interpolation='nearest', cmap=cmap)\n",
        "    ax.figure.colorbar(im, ax=ax)\n",
        "    # We want to show all ticks...\n",
        "    ax.set(xticks=np.arange(cm.shape[1]),\n",
        "           yticks=np.arange(cm.shape[0]),\n",
        "           xticklabels=classes,\n",
        "           yticklabels=classes,\n",
        "           title=title,\n",
        "           ylabel='True label',\n",
        "           xlabel='Predicted label')\n",
        "\n",
        "    # Rotate the tick labels and set their alignment.\n",
        "    plt.setp(ax.get_xticklabels(), rotation=45, ha=\"right\",\n",
        "             rotation_mode=\"anchor\")\n",
        "\n",
        "    # Loop over data dimensions and create text annotations.\n",
        "    fmt = 'd'\n",
        "    thresh = cm.max() / 2.\n",
        "    for i in range(cm.shape[0]):\n",
        "        for j in range(cm.shape[1]):\n",
        "            ax.text(j, i, format(cm[i, j], fmt),\n",
        "                    ha=\"center\", va=\"center\",\n",
        "                    color=\"white\" if cm[i, j] > thresh else \"black\")\n",
        "    fig.tight_layout()\n",
        "\n",
        "    return plt\n"
      ],
      "metadata": {
        "id": "qeb3YdGO6tHy"
      },
      "execution_count": 8,
      "outputs": []
    },
    {
      "cell_type": "code",
      "source": [
        "def main():\n",
        "  \n",
        "    under_sampled_df = under_sampling(df)\n",
        "    rf = RandomForestClassifier(random_state=42, criterion='entropy', max_depth=14, max_features='auto',\n",
        "                                n_estimators=500)\n",
        "    nb = GaussianNB()\n",
        "    \n",
        "    '''\n",
        "    from sklearn import svm\n",
        "    clf = svm.SVC(kernel='linear')\n",
        "    '''\n",
        "\n",
        "    semi_supervised_learning(under_sampled_df, model=rf, threshold=0.7, iterations=15, algorithm='Random Forest')\n",
        "    semi_supervised_learning(under_sampled_df, model=nb, threshold=0.7, iterations=15, algorithm='Naive Bayes')\n",
        "\n",
        "\n",
        "if __name__ == '__main__':\n",
        "    main()\n",
        "\n",
        "from sklearn.ensemble import VotingClassifier\n",
        "from sklearn.metrics import log_loss\n",
        "\n",
        "# Splitting between train data into training and validation dataset\n",
        "#X_train, X_test, y_train, y_test = train_test_split(train, target, test_size=0.20)\n",
        "# initializing all the model objects with default parameters\n",
        "model_1 =RandomForestClassifier()\n",
        "model_2 = GaussianNB()\n",
        "  \n",
        "# Making the final model using voting classifier\n",
        "final_model = VotingClassifier(\n",
        "    estimators=[('rf', model_1), ('nb', model_2)], voting='hard')"
      ],
      "metadata": {
        "colab": {
          "base_uri": "https://localhost:8080/",
          "height": 1000
        },
        "id": "y0RkInNC6yYq",
        "outputId": "9bdd7626-fd69-45bf-be2c-9286521d8283"
      },
      "execution_count": 10,
      "outputs": [
        {
          "output_type": "stream",
          "name": "stdout",
          "text": [
            "Under-Sampling Data\n",
            "Under-Sampling Complete\n",
            "Training Random Forest Model\n"
          ]
        },
        {
          "output_type": "stream",
          "name": "stderr",
          "text": [
            "\n",
            "  0%|          | 0/15 [00:00<?, ?it/s]\u001b[A\n",
            "  7%|▋         | 1/15 [00:14<03:19, 14.28s/it]\u001b[A"
          ]
        },
        {
          "output_type": "stream",
          "name": "stdout",
          "text": [
            "----------------------------------------\n"
          ]
        },
        {
          "output_type": "stream",
          "name": "stderr",
          "text": [
            "\n",
            " 13%|█▎        | 2/15 [00:20<02:05,  9.64s/it]\u001b[A"
          ]
        },
        {
          "output_type": "stream",
          "name": "stdout",
          "text": [
            "----------------------------------------\n"
          ]
        },
        {
          "output_type": "stream",
          "name": "stderr",
          "text": [
            "\n",
            " 20%|██        | 3/15 [00:26<01:37,  8.09s/it]\u001b[A"
          ]
        },
        {
          "output_type": "stream",
          "name": "stdout",
          "text": [
            "----------------------------------------\n"
          ]
        },
        {
          "output_type": "stream",
          "name": "stderr",
          "text": [
            "\n",
            " 27%|██▋       | 4/15 [00:33<01:21,  7.37s/it]\u001b[A"
          ]
        },
        {
          "output_type": "stream",
          "name": "stdout",
          "text": [
            "----------------------------------------\n"
          ]
        },
        {
          "output_type": "stream",
          "name": "stderr",
          "text": [
            "\n",
            " 33%|███▎      | 5/15 [00:39<01:09,  6.94s/it]\u001b[A"
          ]
        },
        {
          "output_type": "stream",
          "name": "stdout",
          "text": [
            "----------------------------------------\n"
          ]
        },
        {
          "output_type": "stream",
          "name": "stderr",
          "text": [
            "\n",
            " 40%|████      | 6/15 [00:49<01:12,  8.08s/it]\u001b[A"
          ]
        },
        {
          "output_type": "stream",
          "name": "stdout",
          "text": [
            "----------------------------------------\n"
          ]
        },
        {
          "output_type": "stream",
          "name": "stderr",
          "text": [
            "\n",
            " 47%|████▋     | 7/15 [00:55<00:59,  7.47s/it]\u001b[A"
          ]
        },
        {
          "output_type": "stream",
          "name": "stdout",
          "text": [
            "----------------------------------------\n"
          ]
        },
        {
          "output_type": "stream",
          "name": "stderr",
          "text": [
            "\n",
            " 53%|█████▎    | 8/15 [01:02<00:49,  7.07s/it]\u001b[A"
          ]
        },
        {
          "output_type": "stream",
          "name": "stdout",
          "text": [
            "----------------------------------------\n"
          ]
        },
        {
          "output_type": "stream",
          "name": "stderr",
          "text": [
            "\n",
            " 60%|██████    | 9/15 [01:08<00:40,  6.80s/it]\u001b[A"
          ]
        },
        {
          "output_type": "stream",
          "name": "stdout",
          "text": [
            "----------------------------------------\n"
          ]
        },
        {
          "output_type": "stream",
          "name": "stderr",
          "text": [
            "\n",
            " 67%|██████▋   | 10/15 [01:14<00:32,  6.60s/it]\u001b[A"
          ]
        },
        {
          "output_type": "stream",
          "name": "stdout",
          "text": [
            "----------------------------------------\n"
          ]
        },
        {
          "output_type": "stream",
          "name": "stderr",
          "text": [
            "\n",
            " 73%|███████▎  | 11/15 [01:20<00:25,  6.47s/it]\u001b[A"
          ]
        },
        {
          "output_type": "stream",
          "name": "stdout",
          "text": [
            "----------------------------------------\n"
          ]
        },
        {
          "output_type": "stream",
          "name": "stderr",
          "text": [
            "\n",
            " 80%|████████  | 12/15 [01:26<00:19,  6.36s/it]\u001b[A"
          ]
        },
        {
          "output_type": "stream",
          "name": "stdout",
          "text": [
            "----------------------------------------\n"
          ]
        },
        {
          "output_type": "stream",
          "name": "stderr",
          "text": [
            "\n",
            " 87%|████████▋ | 13/15 [01:32<00:12,  6.30s/it]\u001b[A"
          ]
        },
        {
          "output_type": "stream",
          "name": "stdout",
          "text": [
            "----------------------------------------\n"
          ]
        },
        {
          "output_type": "stream",
          "name": "stderr",
          "text": [
            "\n",
            " 93%|█████████▎| 14/15 [01:39<00:06,  6.38s/it]\u001b[A"
          ]
        },
        {
          "output_type": "stream",
          "name": "stdout",
          "text": [
            "----------------------------------------\n"
          ]
        },
        {
          "output_type": "stream",
          "name": "stderr",
          "text": [
            "\n",
            "100%|██████████| 15/15 [01:45<00:00,  7.04s/it]"
          ]
        },
        {
          "output_type": "stream",
          "name": "stdout",
          "text": [
            "----------------------------------------\n"
          ]
        },
        {
          "output_type": "stream",
          "name": "stderr",
          "text": [
            "\n"
          ]
        },
        {
          "output_type": "stream",
          "name": "stdout",
          "text": [
            "Random Forest Model Results\n",
            "----------------------------------------\n",
            "Accuracy Score : 0.8923622300999033\n",
            "Precision Score : 0.8476190476190476\n",
            "Recall Score : 0.948069241011984\n",
            "F1 Score : 0.8950345694531741\n",
            "Confusion Matrix : \n",
            "[[1345  256]\n",
            " [  78 1424]]\n"
          ]
        },
        {
          "output_type": "display_data",
          "data": {
            "text/plain": [
              "<Figure size 432x288 with 2 Axes>"
            ],
            "image/png": "[encoded data removed]"
          },
          "metadata": {
            "needs_background": "light"
          }
        },
        {
          "output_type": "stream",
          "name": "stdout",
          "text": [
            "Training Naive Bayes Model\n"
          ]
        },
        {
          "output_type": "stream",
          "name": "stderr",
          "text": [
            "\n",
            "  0%|          | 0/15 [00:00<?, ?it/s]\u001b[A\n",
            "  7%|▋         | 1/15 [00:10<02:24, 10.35s/it]\u001b[A\n",
            " 27%|██▋       | 4/15 [00:10<00:21,  1.99s/it]\u001b[A"
          ]
        },
        {
          "output_type": "stream",
          "name": "stdout",
          "text": [
            "----------------------------------------\n",
            "----------------------------------------\n",
            "----------------------------------------\n",
            "----------------------------------------\n",
            "----------------------------------------\n",
            "----------------------------------------\n",
            "----------------------------------------\n"
          ]
        },
        {
          "output_type": "stream",
          "name": "stderr",
          "text": [
            "\n",
            " 53%|█████▎    | 8/15 [00:10<00:05,  1.25it/s]\u001b[A\n",
            " 80%|████████  | 12/15 [00:10<00:01,  2.26it/s]\u001b[A"
          ]
        },
        {
          "output_type": "stream",
          "name": "stdout",
          "text": [
            "----------------------------------------\n",
            "----------------------------------------\n",
            "----------------------------------------\n",
            "----------------------------------------\n",
            "----------------------------------------\n",
            "----------------------------------------\n",
            "----------------------------------------\n"
          ]
        },
        {
          "output_type": "stream",
          "name": "stderr",
          "text": [
            "\r100%|██████████| 15/15 [00:10<00:00,  1.39it/s]\n"
          ]
        },
        {
          "output_type": "stream",
          "name": "stdout",
          "text": [
            "----------------------------------------\n",
            "Naive Bayes Model Results\n",
            "----------------------------------------\n",
            "Accuracy Score : 0.7927811795037061\n",
            "Precision Score : 0.7032654992901088\n",
            "Recall Score : 0.9893475366178429\n",
            "F1 Score : 0.8221300138312586\n",
            "Confusion Matrix : \n",
            "[[ 974  627]\n",
            " [  16 1486]]\n"
          ]
        },
        {
          "output_type": "display_data",
          "data": {
            "text/plain": [
              "<Figure size 432x288 with 2 Axes>"
            ],
            "image/png": "[encoded data removed]"
          },
          "metadata": {
            "needs_background": "light"
          }
        }
      ]
    }
  ]
}